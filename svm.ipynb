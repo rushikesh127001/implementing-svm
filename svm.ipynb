{
 "cells": [
  {
   "cell_type": "code",
   "execution_count": 1,
   "metadata": {
    "collapsed": true
   },
   "outputs": [],
   "source": [
    "import numpy as np  # for handling multi-dimensional array operation\n",
    "import pandas as pd  # for reading data from csv\n",
    "#import statsmodels.api as sm  # for finding the p-value\n",
    "from sklearn.preprocessing import MinMaxScaler  # for normalization\n",
    "from sklearn.model_selection import train_test_split as tts\n",
    "from sklearn.metrics import accuracy_score\n",
    "from sklearn.utils import shuffle"
   ]
  },
  {
   "cell_type": "code",
   "execution_count": 2,
   "outputs": [
    {
     "name": "stdout",
     "output_type": "stream",
     "text": [
      "splitting dataset into train and test sets...\n"
     ]
    }
   ],
   "source": [
    "# normalizing and pre processing\n",
    "data = pd.read_csv('data/data.csv')\n",
    "diagnosis_map = {'M':1, 'B':-1}\n",
    "data['diagnosis'] = data['diagnosis'].map(diagnosis_map)\n",
    "data.drop(data.columns[[-1, 0]], axis=1, inplace=True)\n",
    "\n",
    "Y = data.loc[:, 'diagnosis']  # all rows of 'diagnosis'\n",
    "X = data.iloc[:, 1:]  # all rows of column 1 and ahead (features)\n",
    "\n",
    "X_normalized = MinMaxScaler().fit_transform(X.values)\n",
    "X = pd.DataFrame(X_normalized)\n",
    "\n",
    "X.insert(loc=len(X.columns), column='intercept', value=1)\n",
    "\n",
    "print(\"splitting dataset into train and test sets...\")\n",
    "X_train, X_test, y_train, y_test = tts(X, Y, test_size=0.2, random_state=42)"
   ],
   "metadata": {
    "collapsed": false,
    "pycharm": {
     "name": "#%%\n"
    }
   }
  },
  {
   "cell_type": "code",
   "execution_count": 58,
   "outputs": [
    {
     "name": "stdout",
     "output_type": "stream",
     "text": [
      "training started...\n",
      "training finished.\n",
      "weights are: [ 1.32675592  0.85567382  1.1264457   2.16314214 -1.25509301 -3.24777489\n",
      "  3.29595742  6.82810493 -0.44666315  0.10182917  5.68928993 -1.91664286\n",
      "  3.27402454  3.77409124  1.67948736 -2.44641706 -1.75093224  0.8523407\n",
      " -1.97762148 -1.84565566  2.70150103  5.34595067  1.03982663  3.08100613\n",
      "  2.21475458 -0.64032647  2.67626187  0.02001338  4.66654438  2.164874\n",
      " -9.26857721]\n"
     ]
    }
   ],
   "source": [
    "def compute_cost(W,X,Y):\n",
    "    N=X.shape(0)\n",
    "    reg_strength = 10000\n",
    "    distances=1-(Y*(np.dot(W,X)))\n",
    "    print(distances[distances<0])\n",
    "    distances[distances < 0] = 0\n",
    "    hinge_loss = reg_strength * (np.sum(distances) / N)\n",
    "    cost = 1 / 2 * np.dot(W, W) + hinge_loss\n",
    "    return cost\n",
    "\n",
    "def calculate_grad_descent(x,y,W):\n",
    "\n",
    "    reg_strength = 10000\n",
    "    if (type(y) == np.int64 or type(y)==np.float64) :\n",
    "        y = np.array([y])\n",
    "        x = np.array([x])\n",
    "\n",
    "    distance=1-(y*np.dot(x,W))\n",
    "    derivative=np.zeros(len(W))\n",
    "\n",
    "    for index,dist in enumerate(distance):\n",
    "        if max(0,dist)==0:\n",
    "            der=W\n",
    "        else:\n",
    "            der=W-(reg_strength*x*y)\n",
    "        # print(np.shape(derivative))\n",
    "        # print(np.shape(der))\n",
    "\n",
    "        derivative+=np.squeeze(der)\n",
    "\n",
    "    derivative=derivative/len(y)\n",
    "    return derivative\n",
    "\n",
    "def sgd(features,outputs):\n",
    "    max_iters=5000\n",
    "\n",
    "    weights = np.zeros(features.shape[1])\n",
    "    for iters in range(1,max_iters):\n",
    "        X,Y=shuffle(features,outputs)\n",
    "        for i,x in enumerate(X):\n",
    "            ascent=calculate_grad_descent(x,Y[i],weights)\n",
    "            weights=weights-(0.000001*ascent)\n",
    "\n",
    "    return weights\n",
    "print(\"training started...\")\n",
    "W = sgd(X_train.to_numpy(), y_train.to_numpy())\n",
    "print(\"training finished.\")\n",
    "print(\"weights are: {}\".format(W))\n",
    "\n"
   ],
   "metadata": {
    "collapsed": false,
    "pycharm": {
     "name": "#%%\n"
    }
   }
  }
 ],
 "metadata": {
  "kernelspec": {
   "name": "pycharm-9aff8f00",
   "language": "python",
   "display_name": "PyCharm (scientificProject)"
  },
  "language_info": {
   "codemirror_mode": {
    "name": "ipython",
    "version": 2
   },
   "file_extension": ".py",
   "mimetype": "text/x-python",
   "name": "python",
   "nbconvert_exporter": "python",
   "pygments_lexer": "ipython2",
   "version": "2.7.6"
  }
 },
 "nbformat": 4,
 "nbformat_minor": 0
}